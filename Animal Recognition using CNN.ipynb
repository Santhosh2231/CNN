{
 "cells": [
  {
   "cell_type": "markdown",
   "id": "3969cf85",
   "metadata": {},
   "source": [
    "# Importing Packages"
   ]
  },
  {
   "cell_type": "code",
   "execution_count": 2,
   "id": "f00a2f69",
   "metadata": {},
   "outputs": [],
   "source": [
    "import numpy as np\n",
    "import pandas as pd\n",
    "from tensorflow.keras.preprocessing.image import ImageDataGenerator\n",
    "from tensorflow.keras.models import Sequential\n",
    "from tensorflow.keras.layers import Convolution2D, MaxPooling2D, Flatten, Dense\n",
    "from tensorflow.keras.models import load_model\n",
    "from tensorflow.keras.preprocessing.image import load_img"
   ]
  },
  {
   "cell_type": "markdown",
   "id": "66f68dbf",
   "metadata": {},
   "source": [
    "# Image Augmentation"
   ]
  },
  {
   "cell_type": "code",
   "execution_count": 3,
   "id": "751f03d7",
   "metadata": {},
   "outputs": [],
   "source": [
    "train_datagen = ImageDataGenerator(rescale=1/255,zoom_range=0.2,horizontal_flip=True,vertical_flip=False)"
   ]
  },
  {
   "cell_type": "code",
   "execution_count": 4,
   "id": "3c4c834e",
   "metadata": {},
   "outputs": [],
   "source": [
    "test_datagen = ImageDataGenerator(rescale=1/255)"
   ]
  },
  {
   "cell_type": "code",
   "execution_count": 5,
   "id": "aa5cd3ab",
   "metadata": {},
   "outputs": [
    {
     "name": "stdout",
     "output_type": "stream",
     "text": [
      "Found 1238 images belonging to 4 classes.\n"
     ]
    }
   ],
   "source": [
    "x_train = train_datagen.flow_from_directory(r'E:\\AnimalRecognition\\Dataset\\Training',target_size=(64,64),\n",
    "                                           class_mode='categorical',batch_size=100)"
   ]
  },
  {
   "cell_type": "code",
   "execution_count": 6,
   "id": "dd8e0d92",
   "metadata": {},
   "outputs": [
    {
     "name": "stdout",
     "output_type": "stream",
     "text": [
      "Found 326 images belonging to 4 classes.\n"
     ]
    }
   ],
   "source": [
    "x_test = test_datagen.flow_from_directory(r'E:\\AnimalRecognition\\Dataset\\Testing',target_size=(64,64),\n",
    "                                           class_mode='categorical',batch_size=100)"
   ]
  },
  {
   "cell_type": "code",
   "execution_count": 7,
   "id": "1a37c75f",
   "metadata": {},
   "outputs": [
    {
     "data": {
      "text/plain": [
       "{'bears': 0, 'crows': 1, 'elephants': 2, 'rats': 3}"
      ]
     },
     "execution_count": 7,
     "metadata": {},
     "output_type": "execute_result"
    }
   ],
   "source": [
    "x_train.class_indices"
   ]
  },
  {
   "cell_type": "markdown",
   "id": "5eef0a56",
   "metadata": {},
   "source": [
    "# Model Building"
   ]
  },
  {
   "cell_type": "code",
   "execution_count": 8,
   "id": "8af75e89",
   "metadata": {},
   "outputs": [],
   "source": [
    "model = Sequential()"
   ]
  },
  {
   "cell_type": "code",
   "execution_count": 9,
   "id": "5330223e",
   "metadata": {},
   "outputs": [],
   "source": [
    "#Convolution layer\n",
    "model.add(Convolution2D(32,(3,3),activation='relu',input_shape=(64,64,3)))"
   ]
  },
  {
   "cell_type": "code",
   "execution_count": 10,
   "id": "9e3c2720",
   "metadata": {},
   "outputs": [],
   "source": [
    "#Max Pooling layer\n",
    "model.add(MaxPooling2D(pool_size=(2,2)))"
   ]
  },
  {
   "cell_type": "code",
   "execution_count": 11,
   "id": "86912364",
   "metadata": {},
   "outputs": [],
   "source": [
    "#Flattening\n",
    "model.add(Flatten())"
   ]
  },
  {
   "cell_type": "code",
   "execution_count": 12,
   "id": "54045e1a",
   "metadata": {},
   "outputs": [],
   "source": [
    "#Fully connected layer\n",
    "#Hidden layer1\n",
    "model.add(Dense(300,activation='relu'))\n",
    "#Hidden Layer2\n",
    "model.add(Dense(150,activation='relu'))"
   ]
  },
  {
   "cell_type": "code",
   "execution_count": 13,
   "id": "ddb107b4",
   "metadata": {},
   "outputs": [],
   "source": [
    "#output layer\n",
    "model.add(Dense(4,activation='softmax'))"
   ]
  },
  {
   "cell_type": "markdown",
   "id": "e06738d0",
   "metadata": {},
   "source": [
    "# Compiling"
   ]
  },
  {
   "cell_type": "code",
   "execution_count": 15,
   "id": "46fb2314",
   "metadata": {},
   "outputs": [],
   "source": [
    "model.compile(loss='categorical_crossentropy',optimizer='adam',metrics=['accuracy'])"
   ]
  },
  {
   "cell_type": "markdown",
   "id": "f66cb295",
   "metadata": {},
   "source": [
    "# Model fitting"
   ]
  },
  {
   "cell_type": "code",
   "execution_count": 16,
   "id": "312aabb1",
   "metadata": {},
   "outputs": [
    {
     "name": "stdout",
     "output_type": "stream",
     "text": [
      "Epoch 1/10\n",
      "13/13 [==============================] - 12s 654ms/step - loss: 3.0824 - accuracy: 0.3110 - val_loss: 1.6577 - val_accuracy: 0.3865\n",
      "Epoch 2/10\n",
      "13/13 [==============================] - 7s 518ms/step - loss: 1.3922 - accuracy: 0.3473 - val_loss: 1.2746 - val_accuracy: 0.4294\n",
      "Epoch 3/10\n",
      "13/13 [==============================] - 7s 525ms/step - loss: 1.2565 - accuracy: 0.4443 - val_loss: 1.2200 - val_accuracy: 0.3742\n",
      "Epoch 4/10\n",
      "13/13 [==============================] - 7s 523ms/step - loss: 1.1044 - accuracy: 0.5646 - val_loss: 0.9513 - val_accuracy: 0.6104\n",
      "Epoch 5/10\n",
      "13/13 [==============================] - 7s 511ms/step - loss: 0.9581 - accuracy: 0.6195 - val_loss: 0.7772 - val_accuracy: 0.7055\n",
      "Epoch 6/10\n",
      "13/13 [==============================] - 7s 512ms/step - loss: 0.8220 - accuracy: 0.6842 - val_loss: 0.6908 - val_accuracy: 0.7546\n",
      "Epoch 7/10\n",
      "13/13 [==============================] - 7s 548ms/step - loss: 0.7349 - accuracy: 0.7197 - val_loss: 0.7432 - val_accuracy: 0.7147\n",
      "Epoch 8/10\n",
      "13/13 [==============================] - 7s 562ms/step - loss: 0.7133 - accuracy: 0.7197 - val_loss: 0.5800 - val_accuracy: 0.7699\n",
      "Epoch 9/10\n",
      "13/13 [==============================] - 7s 553ms/step - loss: 0.6303 - accuracy: 0.7658 - val_loss: 0.4980 - val_accuracy: 0.8252\n",
      "Epoch 10/10\n",
      "13/13 [==============================] - 7s 561ms/step - loss: 0.5994 - accuracy: 0.7706 - val_loss: 0.5894 - val_accuracy: 0.7822\n"
     ]
    },
    {
     "data": {
      "text/plain": [
       "<keras.callbacks.History at 0x18ee93f61f0>"
      ]
     },
     "execution_count": 16,
     "metadata": {},
     "output_type": "execute_result"
    }
   ],
   "source": [
    "model.fit(x_train,steps_per_epoch=len(x_train),epochs=10,validation_data=x_test,validation_steps=len(x_test))"
   ]
  },
  {
   "cell_type": "code",
   "execution_count": 17,
   "id": "1c0bdb79",
   "metadata": {},
   "outputs": [],
   "source": [
    "model.save('animalRecognition.h5')"
   ]
  },
  {
   "cell_type": "markdown",
   "id": "d697dee3",
   "metadata": {},
   "source": [
    "# Testing"
   ]
  },
  {
   "cell_type": "code",
   "execution_count": 20,
   "id": "26a96e25",
   "metadata": {},
   "outputs": [
    {
     "data": {
      "image/png": "[encoded data removed]",
      "text/plain": [
       "<PIL.Image.Image image mode=RGB size=64x64 at 0x18E80265C70>"
      ]
     },
     "execution_count": 20,
     "metadata": {},
     "output_type": "execute_result"
    }
   ],
   "source": [
    "model = load_model('animal.h5')\n",
    "img = load_img(r'E:\\AnimalRecognition\\Dataset\\Training\\elephants\\9k_ (5).jpeg',target_size=(64,64))\n",
    "img"
   ]
  },
  {
   "cell_type": "code",
   "execution_count": 23,
   "id": "e8dbb30e",
   "metadata": {},
   "outputs": [],
   "source": [
    "from tensorflow.keras.preprocessing.image import img_to_array"
   ]
  },
  {
   "cell_type": "code",
   "execution_count": 24,
   "id": "66ee0365",
   "metadata": {},
   "outputs": [],
   "source": [
    "x=img_to_array(img)"
   ]
  },
  {
   "cell_type": "code",
   "execution_count": 25,
   "id": "b9f03af9",
   "metadata": {},
   "outputs": [],
   "source": [
    "x=np.expand_dims(x,axis=0)"
   ]
  },
  {
   "cell_type": "code",
   "execution_count": 26,
   "id": "9dafc8c0",
   "metadata": {},
   "outputs": [
    {
     "name": "stdout",
     "output_type": "stream",
     "text": [
      "1/1 [==============================] - 2s 2s/step\n"
     ]
    }
   ],
   "source": [
    "# prediction\n",
    "pred = np.argmax(model.predict(x),axis=1)"
   ]
  },
  {
   "cell_type": "code",
   "execution_count": 27,
   "id": "1c243561",
   "metadata": {},
   "outputs": [
    {
     "data": {
      "text/plain": [
       "array([2], dtype=int64)"
      ]
     },
     "execution_count": 27,
     "metadata": {},
     "output_type": "execute_result"
    }
   ],
   "source": [
    "pred"
   ]
  },
  {
   "cell_type": "code",
   "execution_count": 28,
   "id": "fc04cafa",
   "metadata": {},
   "outputs": [],
   "source": [
    "index=[\"bears\",\"crows\",\"elephants\",\"rats\"]"
   ]
  },
  {
   "cell_type": "code",
   "execution_count": 29,
   "id": "d9fdf0ff",
   "metadata": {},
   "outputs": [
    {
     "name": "stdout",
     "output_type": "stream",
     "text": [
      "elephants\n"
     ]
    }
   ],
   "source": [
    "print(index[pred[0]])"
   ]
  },
  {
   "cell_type": "code",
   "execution_count": null,
   "id": "5e79ae55",
   "metadata": {},
   "outputs": [],
   "source": []
  }
 ],
 "metadata": {
  "kernelspec": {
   "display_name": "Python 3 (ipykernel)",
   "language": "python",
   "name": "python3"
  },
  "language_info": {
   "codemirror_mode": {
    "name": "ipython",
    "version": 3
   },
   "file_extension": ".py",
   "mimetype": "text/x-python",
   "name": "python",
   "nbconvert_exporter": "python",
   "pygments_lexer": "ipython3",
   "version": "3.9.7"
  }
 },
 "nbformat": 4,
 "nbformat_minor": 5
}
